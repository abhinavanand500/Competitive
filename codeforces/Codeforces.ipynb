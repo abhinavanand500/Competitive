{
 "cells": [
  {
   "cell_type": "code",
   "execution_count": 28,
   "metadata": {},
   "outputs": [
    {
     "name": "stdout",
     "output_type": "stream",
     "text": [
      "2\n",
      "5009\n",
      "7\n",
      "2\n",
      "9 5000 \n",
      "1\n",
      "7 \n"
     ]
    }
   ],
   "source": [
    "n=int(input())\n",
    "final=[]\n",
    "while(n!=0):\n",
    "    i=0\n",
    "    t=int(input())\n",
    "    num=t\n",
    "    arr=[]\n",
    "    while(t!=0):\n",
    "        num=t%10\n",
    "        aa=num*(int(\"1\"+i*\"0\"))\n",
    "        t=t//10\n",
    "        if(aa!=0):\n",
    "            arr.append(aa)\n",
    "        i+=1\n",
    "    final.append(arr)\n",
    "    n=n-1\n",
    "for i in final:\n",
    "    print(len(i))\n",
    "    for j in i:\n",
    "        i\n",
    "        print(j,end=\" \")\n",
    "    print()"
   ]
  },
  {
   "cell_type": "code",
   "execution_count": null,
   "metadata": {},
   "outputs": [],
   "source": []
  },
  {
   "cell_type": "code",
   "execution_count": null,
   "metadata": {},
   "outputs": [],
   "source": []
  },
  {
   "cell_type": "code",
   "execution_count": 18,
   "metadata": {},
   "outputs": [
    {
     "name": "stdout",
     "output_type": "stream",
     "text": [
      "<class 'int'>\n"
     ]
    }
   ],
   "source": [
    "print(type(int(\"1\"+0*\"0\")))"
   ]
  },
  {
   "cell_type": "code",
   "execution_count": 20,
   "metadata": {},
   "outputs": [
    {
     "name": "stdout",
     "output_type": "stream",
     "text": [
      "10\n"
     ]
    }
   ],
   "source": [
    "print(\"1\"+*\"0\")"
   ]
  },
  {
   "cell_type": "code",
   "execution_count": null,
   "metadata": {},
   "outputs": [],
   "source": []
  }
 ],
 "metadata": {
  "kernelspec": {
   "display_name": "Python 3",
   "language": "python",
   "name": "python3"
  },
  "language_info": {
   "codemirror_mode": {
    "name": "ipython",
    "version": 3
   },
   "file_extension": ".py",
   "mimetype": "text/x-python",
   "name": "python",
   "nbconvert_exporter": "python",
   "pygments_lexer": "ipython3",
   "version": "3.8.4"
  }
 },
 "nbformat": 4,
 "nbformat_minor": 4
}
