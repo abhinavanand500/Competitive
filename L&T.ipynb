{
 "cells": [
  {
   "cell_type": "code",
   "execution_count": 3,
   "metadata": {},
   "outputs": [
    {
     "data": {
      "text/plain": [
       "False"
      ]
     },
     "execution_count": 3,
     "metadata": {},
     "output_type": "execute_result"
    }
   ],
   "source": [
    "def palindrome(input1):\n",
    "    return input1 == input1[::-1]\n",
    "palindrome(\"abbaa\")"
   ]
  },
  {
   "cell_type": "code",
   "execution_count": 4,
   "metadata": {},
   "outputs": [
    {
     "name": "stdout",
     "output_type": "stream",
     "text": [
      "abcca\n",
      "abc\n"
     ]
    }
   ],
   "source": [
    "def removeDuplicates(input1):\n",
    "    arr=\"\"\n",
    "    for i in input1:\n",
    "        if i not in arr:\n",
    "            arr+=i\n",
    "    return arr\n",
    "n = input()\n",
    "print(removeDuplicates(n))"
   ]
  },
  {
   "cell_type": "code",
   "execution_count": 14,
   "metadata": {},
   "outputs": [
    {
     "name": "stdout",
     "output_type": "stream",
     "text": [
      "4\n"
     ]
    }
   ],
   "source": [
    "def maxUnique(input1, input2, input3):\n",
    "    sum=0\n",
    "    count=0\n",
    "    for i in range(1,input1+1):\n",
    "        if i not in input3:\n",
    "            if(sum<input1):\n",
    "                sum=sum+i\n",
    "                count+=1\n",
    "    return count-1\n",
    "print(maxUnique(14,4,[4,6,8,9]))"
   ]
  },
  {
   "cell_type": "markdown",
   "metadata": {},
   "source": []
  }
 ],
 "metadata": {
  "kernelspec": {
   "display_name": "Python 3",
   "language": "python",
   "name": "python3"
  },
  "language_info": {
   "codemirror_mode": {
    "name": "ipython",
    "version": 3
   },
   "file_extension": ".py",
   "mimetype": "text/x-python",
   "name": "python",
   "nbconvert_exporter": "python",
   "pygments_lexer": "ipython3",
   "version": "3.8.4"
  }
 },
 "nbformat": 4,
 "nbformat_minor": 4
}
